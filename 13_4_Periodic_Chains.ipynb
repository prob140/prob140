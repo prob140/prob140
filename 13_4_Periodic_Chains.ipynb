{
 "cells": [
  {
   "cell_type": "code",
   "execution_count": 1,
   "metadata": {
    "collapsed": true
   },
   "outputs": [],
   "source": [
    "# HIDDEN\n",
    "from datascience import *\n",
    "from prob140 import *\n",
    "import numpy as np\n",
    "import matplotlib.pyplot as plt\n",
    "plt.style.use('fivethirtyeight')\n",
    "%matplotlib inline\n",
    "import math\n",
    "from scipy import stats\n",
    "from scipy import misc"
   ]
  },
  {
   "cell_type": "markdown",
   "metadata": {},
   "source": [
    "### Periodic Chains ###\n",
    "Among irreducible Markov Chains with finite state space, aperiodic chains have all the beautiful properties that we have studied in the past several sections. But many interesting chains are periodic. In this section we will note which of our familiar results hold and which don't, and how we can use the familiar results in the periodic case.\n",
    "\n",
    "Let $X_0, X_1, X_2, \\ldots $ be an irreducible Markov Chain with a finite state space, and suppose the chain has period $d > 0$. Remember that because the chain is irreducible, all the states have the same period, so you can find $d$ by just looking at the return times of a single state.\n",
    "\n",
    "Then the following facts still hold, just as in the aperiodic case. We won't prove them but you can check some of them by simulation.\n",
    "\n",
    "- There is a unique strictly positive probability distribution $\\pi$ that solves the balance equations.\n",
    "\n",
    "- If the chain starts with initial distribution $\\pi$, then each $X_n$ has distribution $\\pi$; that is, $P_n = \\pi$ for all $n$. So $\\pi$ is a steady state distribution.\n",
    "\n",
    "- For any state $i$, the expected return time to $i$ is $E(W_i \\mid X_0 = i) = \\frac{1}{\\pi(i)}$.\n",
    "\n",
    "- For any two states $i$ and $j$, the expected number of visits to $j$ in an $i$-block is $\\mu(i, j) = \\frac{\\pi(j)}{\\pi(i)}$."
   ]
  },
  {
   "cell_type": "markdown",
   "metadata": {},
   "source": [
    "What doesn't hold is the simple statement about convergence to stationarity that we were able to make in the aperiodic case. In the periodic case we have to be careful about taking limits along appropriate subsequences, which we will avoid. "
   ]
  },
  {
   "cell_type": "markdown",
   "metadata": {},
   "source": [
    "Here is an example to show that you can find expected hitting times and occupation times of periodic chains just as you did with aperiodic chains."
   ]
  },
  {
   "cell_type": "markdown",
   "metadata": {},
   "source": [
    "### Random Walk with Reflection ###\n",
    "Consider a gambler who starts with a positive amount of money and then gambles on tosses of a fair coin: every time the coin lands heads she gains a dollar, and every time it lands tails she loses a dollar. When her fortune reaches $\\$0$, a benefactor hands her $\\$1$ so she can keep playing. When her fortune reaches $\\$N$ for some fixed positive integer $N$, she has to give $\\$1$ to charity but she can keep playing with the remaining $\\$(N-1)$.\n",
    "\n",
    "Let $X_n$ represent her fortune at time $n$. Then $X_0, X_1, X_2, \\ldots $ is a Markov Chain whose transition probabilities are given by:\n",
    "\n",
    "- $P(0, 1) = 1 = P(N, N-1)$\n",
    "\n",
    "- For $1 \\le i \\le N-1$, $P(i, i-1) = 1/2 = P(i, i+1)$\n",
    "\n",
    "This chain is irreducible and has period 2. To check that, let's look at returns to the state 1. By the way the transitions have been defined, if the chain starts at 1 then it can return to 1 only at even times.\n",
    "\n",
    "Here is the transition matrix in the case $N=5$."
   ]
  },
  {
   "cell_type": "code",
   "execution_count": 2,
   "metadata": {
    "collapsed": false
   },
   "outputs": [],
   "source": [
    "N = 5\n",
    "s = np.arange(N+1)\n",
    "def trans(i, j):\n",
    "    if i == 0:\n",
    "        if j == 1:\n",
    "            return 1\n",
    "        else: return 0\n",
    "    elif i== N:\n",
    "        if j == N-1:\n",
    "            return 1\n",
    "        else:\n",
    "            return 0\n",
    "    elif abs(i-j) == 1:\n",
    "        return 0.5\n",
    "    else:\n",
    "        return 0\n",
    "refl = Table().states(s).transition_function(trans).toMarkovChain()"
   ]
  },
  {
   "cell_type": "code",
   "execution_count": 3,
   "metadata": {
    "collapsed": false
   },
   "outputs": [
    {
     "data": {
      "text/html": [
       "<div>\n",
       "<table border=\"1\" class=\"dataframe\">\n",
       "  <thead>\n",
       "    <tr style=\"text-align: right;\">\n",
       "      <th></th>\n",
       "      <th>0</th>\n",
       "      <th>1</th>\n",
       "      <th>2</th>\n",
       "      <th>3</th>\n",
       "      <th>4</th>\n",
       "      <th>5</th>\n",
       "    </tr>\n",
       "  </thead>\n",
       "  <tbody>\n",
       "    <tr>\n",
       "      <th>0</th>\n",
       "      <td>0.0</td>\n",
       "      <td>1.0</td>\n",
       "      <td>0.0</td>\n",
       "      <td>0.0</td>\n",
       "      <td>0.0</td>\n",
       "      <td>0.0</td>\n",
       "    </tr>\n",
       "    <tr>\n",
       "      <th>1</th>\n",
       "      <td>0.5</td>\n",
       "      <td>0.0</td>\n",
       "      <td>0.5</td>\n",
       "      <td>0.0</td>\n",
       "      <td>0.0</td>\n",
       "      <td>0.0</td>\n",
       "    </tr>\n",
       "    <tr>\n",
       "      <th>2</th>\n",
       "      <td>0.0</td>\n",
       "      <td>0.5</td>\n",
       "      <td>0.0</td>\n",
       "      <td>0.5</td>\n",
       "      <td>0.0</td>\n",
       "      <td>0.0</td>\n",
       "    </tr>\n",
       "    <tr>\n",
       "      <th>3</th>\n",
       "      <td>0.0</td>\n",
       "      <td>0.0</td>\n",
       "      <td>0.5</td>\n",
       "      <td>0.0</td>\n",
       "      <td>0.5</td>\n",
       "      <td>0.0</td>\n",
       "    </tr>\n",
       "    <tr>\n",
       "      <th>4</th>\n",
       "      <td>0.0</td>\n",
       "      <td>0.0</td>\n",
       "      <td>0.0</td>\n",
       "      <td>0.5</td>\n",
       "      <td>0.0</td>\n",
       "      <td>0.5</td>\n",
       "    </tr>\n",
       "    <tr>\n",
       "      <th>5</th>\n",
       "      <td>0.0</td>\n",
       "      <td>0.0</td>\n",
       "      <td>0.0</td>\n",
       "      <td>0.0</td>\n",
       "      <td>1.0</td>\n",
       "      <td>0.0</td>\n",
       "    </tr>\n",
       "  </tbody>\n",
       "</table>\n",
       "</div>"
      ],
      "text/plain": [
       "     0    1    2    3    4    5\n",
       "0  0.0  1.0  0.0  0.0  0.0  0.0\n",
       "1  0.5  0.0  0.5  0.0  0.0  0.0\n",
       "2  0.0  0.5  0.0  0.5  0.0  0.0\n",
       "3  0.0  0.0  0.5  0.0  0.5  0.0\n",
       "4  0.0  0.0  0.0  0.5  0.0  0.5\n",
       "5  0.0  0.0  0.0  0.0  1.0  0.0"
      ]
     },
     "execution_count": 3,
     "metadata": {},
     "output_type": "execute_result"
    }
   ],
   "source": [
    "refl"
   ]
  },
  {
   "cell_type": "markdown",
   "metadata": {},
   "source": [
    "The steady state distribution has a simple form:"
   ]
  },
  {
   "cell_type": "code",
   "execution_count": 5,
   "metadata": {
    "collapsed": false
   },
   "outputs": [
    {
     "data": {
      "text/html": [
       "<div>\n",
       "<table border=\"1\" class=\"dataframe\">\n",
       "  <thead>\n",
       "    <tr style=\"text-align: right;\">\n",
       "      <th></th>\n",
       "      <th>0</th>\n",
       "      <th>1</th>\n",
       "      <th>2</th>\n",
       "      <th>3</th>\n",
       "      <th>4</th>\n",
       "      <th>5</th>\n",
       "    </tr>\n",
       "  </thead>\n",
       "  <tbody>\n",
       "    <tr>\n",
       "      <th>0</th>\n",
       "      <td>10.0</td>\n",
       "      <td>1.0</td>\n",
       "      <td>4.0</td>\n",
       "      <td>9.0</td>\n",
       "      <td>16.0</td>\n",
       "      <td>25.0</td>\n",
       "    </tr>\n",
       "    <tr>\n",
       "      <th>1</th>\n",
       "      <td>9.0</td>\n",
       "      <td>5.0</td>\n",
       "      <td>3.0</td>\n",
       "      <td>8.0</td>\n",
       "      <td>15.0</td>\n",
       "      <td>24.0</td>\n",
       "    </tr>\n",
       "    <tr>\n",
       "      <th>2</th>\n",
       "      <td>16.0</td>\n",
       "      <td>7.0</td>\n",
       "      <td>5.0</td>\n",
       "      <td>5.0</td>\n",
       "      <td>12.0</td>\n",
       "      <td>21.0</td>\n",
       "    </tr>\n",
       "    <tr>\n",
       "      <th>3</th>\n",
       "      <td>21.0</td>\n",
       "      <td>12.0</td>\n",
       "      <td>5.0</td>\n",
       "      <td>5.0</td>\n",
       "      <td>7.0</td>\n",
       "      <td>16.0</td>\n",
       "    </tr>\n",
       "    <tr>\n",
       "      <th>4</th>\n",
       "      <td>24.0</td>\n",
       "      <td>15.0</td>\n",
       "      <td>8.0</td>\n",
       "      <td>3.0</td>\n",
       "      <td>5.0</td>\n",
       "      <td>9.0</td>\n",
       "    </tr>\n",
       "    <tr>\n",
       "      <th>5</th>\n",
       "      <td>25.0</td>\n",
       "      <td>16.0</td>\n",
       "      <td>9.0</td>\n",
       "      <td>4.0</td>\n",
       "      <td>1.0</td>\n",
       "      <td>10.0</td>\n",
       "    </tr>\n",
       "  </tbody>\n",
       "</table>\n",
       "</div>"
      ],
      "text/plain": [
       "      0     1    2    3     4     5\n",
       "0  10.0   1.0  4.0  9.0  16.0  25.0\n",
       "1   9.0   5.0  3.0  8.0  15.0  24.0\n",
       "2  16.0   7.0  5.0  5.0  12.0  21.0\n",
       "3  21.0  12.0  5.0  5.0   7.0  16.0\n",
       "4  24.0  15.0  8.0  3.0   5.0   9.0\n",
       "5  25.0  16.0  9.0  4.0   1.0  10.0"
      ]
     },
     "execution_count": 5,
     "metadata": {},
     "output_type": "execute_result"
    }
   ],
   "source": [
    "refl.mean_first_passage_times()"
   ]
  },
  {
   "cell_type": "code",
   "execution_count": 33,
   "metadata": {
    "collapsed": false
   },
   "outputs": [
    {
     "data": {
      "text/plain": [
       "Matrix([((2, 3), 0.5),\n",
       "        ((3, 2), 0.5),\n",
       "        ((3, 4), 0.5),\n",
       "        ((4, 3), 0.5),\n",
       "        ((4, 5), 0.5),\n",
       "        ((5, 4), 1.0)])"
      ]
     },
     "execution_count": 33,
     "metadata": {},
     "output_type": "execute_result"
    }
   ],
   "source": [
    "dmc.remove([1])"
   ]
  },
  {
   "cell_type": "code",
   "execution_count": 64,
   "metadata": {
    "collapsed": false
   },
   "outputs": [
    {
     "data": {
      "text/plain": [
       "Vector([(0, 4.0),\n",
       "        (1, 3.0),\n",
       "        (3, 4.9999999999999991),\n",
       "        (4, 7.9999999999999982),\n",
       "        (5, 8.9999999999999982)])"
      ]
     },
     "execution_count": 64,
     "metadata": {},
     "output_type": "execute_result"
    }
   ],
   "source": [
    "new_mpft_to(refl.chain,2)"
   ]
  },
  {
   "cell_type": "markdown",
   "metadata": {},
   "source": [
    "The steady state distribution is straightforward to derive for any $N$. The balance equations are:\n",
    "\n",
    "\\begin{align*}\n",
    "\\pi(0) &= 0.5\\pi(1) \\\\\n",
    "\\pi(1) &= \\pi(0) + 0.5\\pi(2) \\\\\n",
    "\\pi(2) &= 0.5\\pi(1) + 0.5\\pi(3) \n",
    "\\end{align*}\n",
    "\n",
    "and so on, ending with\n",
    "\n",
    "\\begin{align*}\n",
    "\\pi(N-1) &= 0.5\\pi(N-2) + \\pi(N) \\\\\n",
    "\\pi(N) &= 0.5\\pi(N-1) \n",
    "\\end{align*}\n",
    "\n",
    "By symmetry,\n",
    "\n",
    "- $\\pi(0) = \\pi(N)$\n",
    "- $\\pi(1) = \\pi(N-1)$\n",
    "- $\\pi(2) = \\pi(3) = \\cdots = \\pi(N-2)$\n",
    "\n",
    "Put this together with the first two balance equations to see that the equations are satisfied by\n",
    "\n",
    "$$\n",
    "\\big{(} \\pi(0), 2\\pi(0), 2\\pi(0), \\ldots, 2\\pi(0), \\pi(0) \\big{)}\n",
    "$$\n",
    "That's a total of $[2+2(N+1-2)]\\pi(0) = 2N\\pi(0)$. \n",
    "\n",
    "So the probability distribution that solves the balance equations has $N+1$ terms corresponding to the states 0 through $N$ and is given by\n",
    "\n",
    "$$\n",
    "\\pi = \\big{(} \\frac{1}{2N}, \\frac{1}{N}, \\frac{1}{N}, \\ldots, \\frac{1}{N}, \\frac{1}{2N} \\big{)}\n",
    "$$\n",
    "\n",
    "Thus for example:\n",
    "\n",
    "- The long run expected proportion of time spent at each of the reflecting barriers is $1/2N$, which is half the long run expected proportion of time spent at any of the other states.\n",
    "- Given that the chain starts at 0, the expected time till it returns to 0 is $2N$. \n",
    "- Given that the chain starts at 0, the expected number of times it vistis 1 before returning to 0 is $(1/N)/(1/2N) = 2$. This is the same as the expected number of times the chain visits any of the states 1 through $N-1$ before returning to 0.\n",
    "- Given that the chain starts at 0, the expected number of times it visits $N$ before returning to 0 is 1.\n",
    "- Given that the chain starts at 1, the expected time till it returns to 1 is $N$.\n",
    "- Given that the chain starts at 1, the expected number of times it visits 2 before returning to 1 is 1, as is the expected number of visits to any of the states 2 through $N-1$ before returning to 1.\n",
    "- Given that the chain starts at 1, the expected number of times it visits 0 before returning to 1 is 1/2, as is the expected number of visits to state $N$ before returning to 1."
   ]
  },
  {
   "cell_type": "code",
   "execution_count": 6,
   "metadata": {
    "collapsed": false,
    "scrolled": true
   },
   "outputs": [
    {
     "data": {
      "text/html": [
       "<div>\n",
       "<table border=\"1\" class=\"dataframe\">\n",
       "  <thead>\n",
       "    <tr style=\"text-align: right;\">\n",
       "      <th></th>\n",
       "      <th>0</th>\n",
       "      <th>1</th>\n",
       "      <th>2</th>\n",
       "      <th>3</th>\n",
       "      <th>4</th>\n",
       "      <th>5</th>\n",
       "    </tr>\n",
       "  </thead>\n",
       "  <tbody>\n",
       "    <tr>\n",
       "      <th>0</th>\n",
       "      <td>6.0</td>\n",
       "      <td>1.0</td>\n",
       "      <td>2.0</td>\n",
       "      <td>3.0</td>\n",
       "      <td>4.0</td>\n",
       "      <td>5.0</td>\n",
       "    </tr>\n",
       "    <tr>\n",
       "      <th>1</th>\n",
       "      <td>5.0</td>\n",
       "      <td>6.0</td>\n",
       "      <td>1.0</td>\n",
       "      <td>2.0</td>\n",
       "      <td>3.0</td>\n",
       "      <td>4.0</td>\n",
       "    </tr>\n",
       "    <tr>\n",
       "      <th>2</th>\n",
       "      <td>4.0</td>\n",
       "      <td>5.0</td>\n",
       "      <td>6.0</td>\n",
       "      <td>1.0</td>\n",
       "      <td>2.0</td>\n",
       "      <td>3.0</td>\n",
       "    </tr>\n",
       "    <tr>\n",
       "      <th>3</th>\n",
       "      <td>3.0</td>\n",
       "      <td>4.0</td>\n",
       "      <td>5.0</td>\n",
       "      <td>6.0</td>\n",
       "      <td>1.0</td>\n",
       "      <td>2.0</td>\n",
       "    </tr>\n",
       "    <tr>\n",
       "      <th>4</th>\n",
       "      <td>2.0</td>\n",
       "      <td>3.0</td>\n",
       "      <td>4.0</td>\n",
       "      <td>5.0</td>\n",
       "      <td>6.0</td>\n",
       "      <td>1.0</td>\n",
       "    </tr>\n",
       "    <tr>\n",
       "      <th>5</th>\n",
       "      <td>1.0</td>\n",
       "      <td>2.0</td>\n",
       "      <td>3.0</td>\n",
       "      <td>4.0</td>\n",
       "      <td>5.0</td>\n",
       "      <td>6.0</td>\n",
       "    </tr>\n",
       "  </tbody>\n",
       "</table>\n",
       "</div>"
      ],
      "text/plain": [
       "     0    1    2    3    4    5\n",
       "0  6.0  1.0  2.0  3.0  4.0  5.0\n",
       "1  5.0  6.0  1.0  2.0  3.0  4.0\n",
       "2  4.0  5.0  6.0  1.0  2.0  3.0\n",
       "3  3.0  4.0  5.0  6.0  1.0  2.0\n",
       "4  2.0  3.0  4.0  5.0  6.0  1.0\n",
       "5  1.0  2.0  3.0  4.0  5.0  6.0"
      ]
     },
     "execution_count": 6,
     "metadata": {},
     "output_type": "execute_result"
    }
   ],
   "source": [
    "N = 5\n",
    "s = np.arange(N+1)\n",
    "def trans(i, j):\n",
    "    if j == (i+1)%(N+1):\n",
    "        return 1\n",
    "    else:\n",
    "        return 0\n",
    "cycl = Table().states(s).transition_function(trans).toMarkovChain()\n",
    "cycl.mean_first_passage_times()"
   ]
  },
  {
   "cell_type": "code",
   "execution_count": 9,
   "metadata": {
    "collapsed": false
   },
   "outputs": [
    {
     "data": {
      "text/html": [
       "<div>\n",
       "<table border=\"1\" class=\"dataframe\">\n",
       "  <thead>\n",
       "    <tr style=\"text-align: right;\">\n",
       "      <th></th>\n",
       "    </tr>\n",
       "  </thead>\n",
       "  <tbody>\n",
       "  </tbody>\n",
       "</table>\n",
       "</div>"
      ],
      "text/plain": [
       "Empty DataFrame\n",
       "Columns: []\n",
       "Index: []"
      ]
     },
     "execution_count": 9,
     "metadata": {},
     "output_type": "execute_result"
    }
   ],
   "source": [
    "N = 5\n",
    "s = np.arange(N+1)\n",
    "def trans(i, j):\n",
    "    if j == i:\n",
    "        return 1\n",
    "    else:\n",
    "        return 0\n",
    "cycl = Table().states(s).transition_function(trans).toMarkovChain()\n",
    "cycl.mean_first_passage_times()"
   ]
  },
  {
   "cell_type": "code",
   "execution_count": 78,
   "metadata": {
    "collapsed": false
   },
   "outputs": [
    {
     "data": {
      "text/plain": [
       "Vector([(2, 2.0)])"
      ]
     },
     "execution_count": 78,
     "metadata": {},
     "output_type": "execute_result"
    }
   ],
   "source": [
    "new_mpft_to(cycl.chain,1)"
   ]
  }
 ],
 "metadata": {
  "kernelspec": {
   "display_name": "Python 3",
   "language": "python",
   "name": "python3"
  },
  "language_info": {
   "codemirror_mode": {
    "name": "ipython",
    "version": 3
   },
   "file_extension": ".py",
   "mimetype": "text/x-python",
   "name": "python",
   "nbconvert_exporter": "python",
   "pygments_lexer": "ipython3",
   "version": "3.6.0"
  }
 },
 "nbformat": 4,
 "nbformat_minor": 0
}
