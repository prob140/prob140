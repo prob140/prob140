{
 "cells": [
  {
   "cell_type": "code",
   "execution_count": 1,
   "metadata": {
    "collapsed": true,
    "deletable": true,
    "editable": true
   },
   "outputs": [],
   "source": [
    "from datascience import *\n",
    "from prob140 import *\n",
    "from sympy import *\n",
    "init_printing()\n",
    "import matplotlib.pyplot as plt\n",
    "%matplotlib inline"
   ]
  },
  {
   "cell_type": "code",
   "execution_count": 2,
   "metadata": {
    "collapsed": false,
    "deletable": true,
    "editable": true
   },
   "outputs": [
    {
     "data": {
      "text/plain": [
       "'0.2.8.0'"
      ]
     },
     "execution_count": 2,
     "metadata": {},
     "output_type": "execute_result"
    }
   ],
   "source": [
    "import prob140\n",
    "prob140.__version__"
   ]
  },
  {
   "cell_type": "markdown",
   "metadata": {
    "deletable": true,
    "editable": true
   },
   "source": [
    "# Declaring Variables\n",
    "\n",
    "Variables are used for constants and variables. The syntax to declare variables is\n",
    "\n",
    "`declare('x','y')`\n",
    "\n",
    "This creates two variables `x` and `y` in your global namespace which you can now use as you'd like\n",
    "\n",
    "If you'd like to restrict the variables to specific domains, we support native Sympy syntax\n",
    "\n",
    "`declare('x',positive=True)` $(0,\\infty)$\n",
    "\n",
    "`declare('x',negative=True)` $(-\\infty,0)$\n",
    "\n",
    "`declare('x',integer=True)` $\\mathbb{Z}$\n",
    "\n",
    "The above restrictions are to help simplify sums and integrals through Sympy (and to avoid odd edge cases)"
   ]
  },
  {
   "cell_type": "code",
   "execution_count": 3,
   "metadata": {
    "collapsed": false,
    "deletable": true,
    "editable": true
   },
   "outputs": [
    {
     "data": {
      "image/png": "[encoded data removed]",
      "text/latex": [
       "$$\\left ( x, \\quad y\\right )$$"
      ],
      "text/plain": [
       "(x, y)"
      ]
     },
     "execution_count": 3,
     "metadata": {},
     "output_type": "execute_result"
    }
   ],
   "source": [
    "declare('x','y')\n",
    "x,y"
   ]
  },
  {
   "cell_type": "markdown",
   "metadata": {
    "deletable": true,
    "editable": true
   },
   "source": [
    "## Writing Expressions\n",
    "\n",
    "We combine variables to create *expressions*. To do so, we can perform arithmetic operations and also apply functions. Here are some of the common functions\n",
    "\n",
    "`exp(x)`: $e^x$\n",
    "\n",
    "`sqrt(x)`: $\\sqrt{x}$\n",
    "\n",
    "`pow(x,y)`: $x^y$ (you can use `x**y` but this is cleaner)"
   ]
  },
  {
   "cell_type": "code",
   "execution_count": 4,
   "metadata": {
    "collapsed": false,
    "deletable": true,
    "editable": true
   },
   "outputs": [
    {
     "data": {
      "image/png": "[encoded data removed]",
      "text/latex": [
       "$$\\left ( x + y, \\quad x - y, \\quad x - 1, \\quad e^{2 x}, \\quad y - e^{2 x}\\right )$$"
      ],
      "text/plain": [
       "⎛                      2⋅x       2⋅x⎞\n",
       "⎝x + y, x - y, x - 1, ℯ   , y - ℯ   ⎠"
      ]
     },
     "execution_count": 4,
     "metadata": {},
     "output_type": "execute_result"
    }
   ],
   "source": [
    "declare('x','y')\n",
    "x+y,x-y, x - 1, exp(x*2),y - exp(x*2)"
   ]
  },
  {
   "cell_type": "markdown",
   "metadata": {
    "deletable": true,
    "editable": true
   },
   "source": [
    "## Derivatives and Integrals\n",
    "\n",
    "The process of calculating derivatives and integrals are two fold:\n",
    "\n",
    "First, you setup the derivative/integral, and then you actually compute it.\n",
    "\n",
    "To set up a derivative:\n",
    "\n",
    "`Derivative(x**2)`\n",
    "\n",
    "If you have multiple variables, and would like to specify which variable to differentiate over, then send the variable as the second argument. E.G.\n",
    "\n",
    "`Derivative(x*y,x)`\n",
    "\n",
    "This creates a derivative expression; to actually evaluate and simplify it, add the `doit()` method.\n",
    "\n",
    "`Derivative(x**2).doit()`"
   ]
  },
  {
   "cell_type": "code",
   "execution_count": 5,
   "metadata": {
    "collapsed": false,
    "deletable": true,
    "editable": true
   },
   "outputs": [
    {
     "data": {
      "image/png": "[encoded data removed]",
      "text/latex": [
       "$$\\left ( \\frac{d}{d x} x^{2}, \\quad 2 x\\right )$$"
      ],
      "text/plain": [
       "⎛d ⎛ 2⎞     ⎞\n",
       "⎜──⎝x ⎠, 2⋅x⎟\n",
       "⎝dx         ⎠"
      ]
     },
     "execution_count": 5,
     "metadata": {},
     "output_type": "execute_result"
    }
   ],
   "source": [
    "Derivative(x**2), Derivative(x**2).doit()"
   ]
  },
  {
   "cell_type": "code",
   "execution_count": 6,
   "metadata": {
    "collapsed": false,
    "deletable": true,
    "editable": true,
    "scrolled": true
   },
   "outputs": [
    {
     "data": {
      "image/png": "[encoded data removed]",
      "text/latex": [
       "$$\\left ( \\frac{\\partial}{\\partial x}\\left(x y\\right), \\quad y\\right )$$"
      ],
      "text/plain": [
       "⎛∂         ⎞\n",
       "⎜──(x⋅y), y⎟\n",
       "⎝∂x        ⎠"
      ]
     },
     "execution_count": 6,
     "metadata": {},
     "output_type": "execute_result"
    }
   ],
   "source": [
    "Derivative(x*y,x), Derivative(x*y,x).doit()"
   ]
  },
  {
   "cell_type": "markdown",
   "metadata": {
    "deletable": true,
    "editable": true
   },
   "source": [
    "### Integrals"
   ]
  },
  {
   "cell_type": "markdown",
   "metadata": {
    "deletable": true,
    "editable": true
   },
   "source": [
    "The syntax for computing an integral is the following: \n",
    "\n",
    "If you'd like to compute an indefinite integral, then the syntax is similar to the derivative\n",
    "\n",
    "`Integral(<expr>)`, or specifying the variable of integration, `Integral(<expr>,<variable>)`\n",
    "\n",
    "Again, `.doit()` evaluates"
   ]
  },
  {
   "cell_type": "code",
   "execution_count": 7,
   "metadata": {
    "collapsed": false,
    "deletable": true,
    "editable": true
   },
   "outputs": [
    {
     "data": {
      "image/png": "[encoded data removed]",
      "text/latex": [
       "$$\\left ( \\int 2 x\\, dx, \\quad x^{2}\\right )$$"
      ],
      "text/plain": [
       "⎛⌠          2⎞\n",
       "⎜⎮ 2⋅x dx, x ⎟\n",
       "⎝⌡           ⎠"
      ]
     },
     "execution_count": 7,
     "metadata": {},
     "output_type": "execute_result"
    }
   ],
   "source": [
    "Integral(2*x),Integral(2*x).doit()"
   ]
  },
  {
   "cell_type": "markdown",
   "metadata": {
    "deletable": true,
    "editable": true
   },
   "source": [
    "For definite integrals, the form goes\n",
    "\n",
    "`Integral(<expr>, (<variable>,<start>,<end>))`\n",
    "\n",
    "As an example:\n",
    "\n",
    "`Integral(2*x,(x,1,2))`\n",
    "\n",
    "Again, `.doit()` evaluates"
   ]
  },
  {
   "cell_type": "code",
   "execution_count": 8,
   "metadata": {
    "collapsed": false,
    "deletable": true,
    "editable": true,
    "scrolled": true
   },
   "outputs": [
    {
     "data": {
      "image/png": "[encoded data removed]",
      "text/latex": [
       "$$\\left ( \\int_{1}^{2} 2 x\\, dx, \\quad 3\\right )$$"
      ],
      "text/plain": [
       "⎛2          ⎞\n",
       "⎜⌠          ⎟\n",
       "⎜⎮ 2⋅x dx, 3⎟\n",
       "⎜⌡          ⎟\n",
       "⎝1          ⎠"
      ]
     },
     "execution_count": 8,
     "metadata": {},
     "output_type": "execute_result"
    }
   ],
   "source": [
    "Integral(2*x,(x,1,2)),Integral(2*x,(x,1,2)).doit()"
   ]
  },
  {
   "cell_type": "markdown",
   "metadata": {
    "deletable": true,
    "editable": true
   },
   "source": [
    "### Simplifying Expressions\n",
    "\n",
    "`factor(<expr>)` attempts to factor the expression as best possible\n",
    "`simplify(<expr>)` attempts to simplify the expression as best possible\n",
    "\n",
    "Since most results by default from SymPy are ugly, we've created a convenience function\n",
    "`nicefy(<expr>)` which does both at the same time (`factor(simplify(<expr>))`)\n",
    "\n",
    "** Note: Don't always use nicefy: the original expression is sometimes better than the nicefied one; also be comfortable using factor and simplify by themselves, since they may give better results**"
   ]
  },
  {
   "cell_type": "code",
   "execution_count": 9,
   "metadata": {
    "collapsed": false,
    "deletable": true,
    "editable": true
   },
   "outputs": [
    {
     "ename": "NameError",
     "evalue": "name 'nicefy' is not defined",
     "output_type": "error",
     "traceback": [
      "\u001b[0;31m---------------------------------------------------------------------------\u001b[0m",
      "\u001b[0;31mNameError\u001b[0m                                 Traceback (most recent call last)",
      "\u001b[0;32m<ipython-input-9-094675ed429f>\u001b[0m in \u001b[0;36m<module>\u001b[0;34m()\u001b[0m\n\u001b[1;32m      1\u001b[0m \u001b[0mdeclare\u001b[0m\u001b[0;34m(\u001b[0m\u001b[0;34m'x'\u001b[0m\u001b[0;34m)\u001b[0m\u001b[0;34m\u001b[0m\u001b[0m\n\u001b[0;32m----> 2\u001b[0;31m \u001b[0mx\u001b[0m\u001b[0;34m**\u001b[0m\u001b[0;36m2\u001b[0m \u001b[0;34m+\u001b[0m \u001b[0;36m2\u001b[0m\u001b[0;34m*\u001b[0m\u001b[0mx\u001b[0m \u001b[0;34m+\u001b[0m \u001b[0;36m1\u001b[0m\u001b[0;34m,\u001b[0m \u001b[0mnicefy\u001b[0m\u001b[0;34m(\u001b[0m\u001b[0mx\u001b[0m\u001b[0;34m**\u001b[0m\u001b[0;36m2\u001b[0m \u001b[0;34m+\u001b[0m \u001b[0;36m2\u001b[0m\u001b[0;34m*\u001b[0m\u001b[0mx\u001b[0m \u001b[0;34m+\u001b[0m \u001b[0;36m1\u001b[0m\u001b[0;34m)\u001b[0m\u001b[0;34m\u001b[0m\u001b[0m\n\u001b[0m",
      "\u001b[0;31mNameError\u001b[0m: name 'nicefy' is not defined"
     ]
    }
   ],
   "source": [
    "declare('x')\n",
    "x**2 + 2*x + 1, nicefy(x**2 + 2*x + 1)"
   ]
  },
  {
   "cell_type": "markdown",
   "metadata": {
    "deletable": true,
    "editable": true
   },
   "source": [
    "## Plotting\n",
    "\n",
    "Use `Plot_continuous`"
   ]
  },
  {
   "cell_type": "code",
   "execution_count": 10,
   "metadata": {
    "collapsed": false,
    "deletable": true,
    "editable": true
   },
   "outputs": [
    {
     "data": {
      "image/png": "[encoded data removed]",
      "text/plain": [
       "<matplotlib.figure.Figure at 0x7ff63c0d12e8>"
      ]
     },
     "metadata": {},
     "output_type": "display_data"
    }
   ],
   "source": [
    "declare('x')\n",
    "Plot_continuous((-1,3), x**2)"
   ]
  },
  {
   "cell_type": "code",
   "execution_count": 11,
   "metadata": {
    "collapsed": false,
    "deletable": true,
    "editable": true
   },
   "outputs": [
    {
     "data": {
      "text/plain": [
       "<matplotlib.legend.Legend at 0x7ff639fdcda0>"
      ]
     },
     "execution_count": 11,
     "metadata": {},
     "output_type": "execute_result"
    },
    {
     "data": {
      "image/png": "[encoded data removed]",
      "text/plain": [
       "<matplotlib.figure.Figure at 0x7ff63c47b898>"
      ]
     },
     "metadata": {},
     "output_type": "display_data"
    }
   ],
   "source": [
    "# A little more complicated (you can pass in matplotlib arguments)\n",
    "Plot_continuous((-3,3),x**2,color='r',label='$x^2$')\n",
    "Plot_continuous((-3,3),exp(x),label='$e^x$')\n",
    "plt.legend()"
   ]
  },
  {
   "cell_type": "markdown",
   "metadata": {
    "deletable": true,
    "editable": true
   },
   "source": [
    "## Substituting in Numbers for variables\n",
    "\n",
    "Especially when working with probabilities, you may want to work with parameters as variables; however when plotting, you'll need to escape out the parameters with actual values; uses `.subs` for this\n",
    "\n",
    "`(x**2).subs(x,2)` will return $2^2$"
   ]
  },
  {
   "cell_type": "code",
   "execution_count": null,
   "metadata": {
    "collapsed": false,
    "deletable": true,
    "editable": true
   },
   "outputs": [],
   "source": [
    "declare('x','y')\n",
    "(x**y).subs(x,2)"
   ]
  },
  {
   "cell_type": "markdown",
   "metadata": {
    "deletable": true,
    "editable": true
   },
   "source": [
    "# Some Actual Probability\n",
    "\n",
    "The next section will just be computing $EX$, $Var(X)$, and the CDF of $X$ of some common variables for practice with SymPy"
   ]
  },
  {
   "cell_type": "code",
   "execution_count": null,
   "metadata": {
    "collapsed": false,
    "deletable": true,
    "editable": true
   },
   "outputs": [],
   "source": [
    "# The Uniform Distribution on [a,b]\n",
    "declare('x','a','b','y')\n",
    "pdf = 1 / (b-a)\n",
    "cdf = Integral(pdf,(x,a,y)).doit()\n",
    "nicefy(cdf)"
   ]
  },
  {
   "cell_type": "code",
   "execution_count": null,
   "metadata": {
    "collapsed": false,
    "deletable": true,
    "editable": true,
    "scrolled": true
   },
   "outputs": [],
   "source": [
    "EX = Integral(x*pdf, (x,a,b)).doit()\n",
    "Var = Integral((x-EX)**2*pdf, (x,a,b)).doit()\n",
    "nicefy(EX),nicefy(Var)"
   ]
  },
  {
   "cell_type": "code",
   "execution_count": null,
   "metadata": {
    "collapsed": false,
    "deletable": true,
    "editable": true
   },
   "outputs": [],
   "source": [
    "a_actual = 0\n",
    "b_actual = 10\n",
    "pdf_actual = pdf.subs(a,a_actual).subs(b,b_actual)\n",
    "Plot_continuous((a_actual,b_actual),pdf_actual)"
   ]
  },
  {
   "cell_type": "code",
   "execution_count": null,
   "metadata": {
    "collapsed": false,
    "deletable": true,
    "editable": true
   },
   "outputs": [],
   "source": [
    "# The Exponential Distribution w/ param l\n",
    "declare('x','l','y')\n",
    "pdf = l*exp(-1*l*x)\n",
    "cdf = Integral(pdf,(x,0,y)).doit()\n",
    "cdf"
   ]
  },
  {
   "cell_type": "code",
   "execution_count": null,
   "metadata": {
    "collapsed": false,
    "deletable": true,
    "editable": true
   },
   "outputs": [],
   "source": [
    "EX = Integral(x*pdf, (x,0,oo)).doit()\n",
    "Var = Integral((x-EX)**2*pdf, (x,0,oo)).doit()\n",
    "nicefy(EX),nicefy(Var)"
   ]
  },
  {
   "cell_type": "markdown",
   "metadata": {
    "deletable": true,
    "editable": true
   },
   "source": [
    "Wow that looks horrible! This is because we didn't account for the fact that $l$ must be positive; doing it again"
   ]
  },
  {
   "cell_type": "code",
   "execution_count": null,
   "metadata": {
    "collapsed": false,
    "deletable": true,
    "editable": true
   },
   "outputs": [],
   "source": [
    "# The Exponential Distribution w/ param l\n",
    "declare('x','l','y',positive=True)\n",
    "pdf = l*exp(-1*l*x)\n",
    "EX = Integral(x*pdf, (x,0,oo)).doit()\n",
    "Var = Integral((x-EX)**2*pdf, (x,0,oo)).doit()\n",
    "nicefy(EX),nicefy(Var)"
   ]
  },
  {
   "cell_type": "code",
   "execution_count": null,
   "metadata": {
    "collapsed": false,
    "deletable": true,
    "editable": true
   },
   "outputs": [],
   "source": [
    "l1 = 1\n",
    "l2 = 2\n",
    "pdf_actual_1 = pdf.subs(l,l1)\n",
    "pdf_actual_2 = pdf.subs(l,l2)\n",
    "\n",
    "Plot_continuous((0,2),pdf_actual_1,color='r',label='$\\lambda=1$')\n",
    "Plot_continuous((0,2),pdf_actual_2,color='b',label='$\\lambda=2$')\n",
    "plt.legend();"
   ]
  },
  {
   "cell_type": "code",
   "execution_count": null,
   "metadata": {
    "collapsed": false,
    "deletable": true,
    "editable": true
   },
   "outputs": [],
   "source": [
    "# Change of variable into $Z = 10x$ (or in other words $x = 1/10 z$)\n",
    "declare('z')\n",
    "pdf.subs(x,z/10)*Derivative(x/10).doit()"
   ]
  },
  {
   "cell_type": "code",
   "execution_count": null,
   "metadata": {
    "collapsed": false,
    "deletable": true,
    "editable": true
   },
   "outputs": [],
   "source": [
    "# The normal distribution w/ param mu, sigma\n",
    "# The Exponential Distribution w/ param l\n",
    "declare('x','mu')\n",
    "declare('sigma',positive=True)\n",
    "pdf = 1 / (sqrt(2*pi)*sigma) * exp(-1*(x-mu)**2/(2*sigma**2))\n",
    "pdf"
   ]
  },
  {
   "cell_type": "code",
   "execution_count": null,
   "metadata": {
    "collapsed": false,
    "deletable": true,
    "editable": true
   },
   "outputs": [],
   "source": [
    "EX = Integral(x*pdf, (x,-oo,oo)).doit()\n",
    "Var = Integral((x-EX)**2*pdf, (x,-oo,oo)).doit()\n",
    "nicefy(EX),nicefy(Var)"
   ]
  },
  {
   "cell_type": "code",
   "execution_count": null,
   "metadata": {
    "collapsed": false,
    "deletable": true,
    "editable": true
   },
   "outputs": [],
   "source": [
    "# Change of variable into $Z = 10x$ (or in other words $x = 1/10 z$)\n",
    "declare('z')\n",
    "simplify(pdf.subs(x,z/10)*Derivative(x/10).doit())"
   ]
  },
  {
   "cell_type": "code",
   "execution_count": null,
   "metadata": {
    "collapsed": false,
    "deletable": true,
    "editable": true
   },
   "outputs": [],
   "source": [
    "normal_pdf_1 = pdf.subs(mu,0).subs(sigma,3)\n",
    "normal_pdf_2 = pdf.subs(mu,0).subs(sigma,5)\n",
    "\n",
    "Plot_continuous((-10,10),normal_pdf_2,color='b',label='$\\sigma=5$')\n",
    "Plot_continuous((-10,10),normal_pdf_1,color='r',label='$\\sigma=3$')\n",
    "plt.legend();"
   ]
  },
  {
   "cell_type": "code",
   "execution_count": null,
   "metadata": {
    "collapsed": false,
    "deletable": true,
    "editable": true
   },
   "outputs": [],
   "source": [
    "normal_pdf_1 = pdf.subs(mu,3).subs(sigma,3)\n",
    "normal_pdf_2 = pdf.subs(mu,0).subs(sigma,3)\n",
    "\n",
    "Plot_continuous((-10,10),normal_pdf_1,color='b',label='$\\mu=3$')\n",
    "Plot_continuous((-10,10),normal_pdf_2,color='r',label='$\\mu=0$')\n",
    "plt.legend();"
   ]
  }
 ],
 "metadata": {
  "kernelspec": {
   "display_name": "Python 3",
   "language": "python",
   "name": "python3"
  },
  "language_info": {
   "codemirror_mode": {
    "name": "ipython",
    "version": 3
   },
   "file_extension": ".py",
   "mimetype": "text/x-python",
   "name": "python",
   "nbconvert_exporter": "python",
   "pygments_lexer": "ipython3",
   "version": "3.5.2"
  }
 },
 "nbformat": 4,
 "nbformat_minor": 2
}
