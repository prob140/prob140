{
 "cells": [
  {
   "cell_type": "code",
   "execution_count": 162,
   "metadata": {
    "collapsed": false,
    "scrolled": false
   },
   "outputs": [
    {
     "name": "stdout",
     "output_type": "stream",
     "text": [
      "The autoreload extension is already loaded. To reload it, use:\n",
      "  %reload_ext autoreload\n"
     ]
    }
   ],
   "source": [
    "%load_ext autoreload\n",
    "%autoreload 2\n",
    "from datascience import *\n",
    "from prob140 import *\n",
    "\n",
    "from prob140.pykov import *\n",
    "import prob140.pykov as pykov\n",
    "# We could also do import prob140.pykov as pk\n",
    "# and call pk.Vector, etc\n",
    "\n",
    "import numpy as np\n",
    "import matplotlib.pyplot as plt\n",
    "%matplotlib inline\n"
   ]
  },
  {
   "cell_type": "code",
   "execution_count": 267,
   "metadata": {
    "collapsed": false
   },
   "outputs": [],
   "source": [
    "import pandas as pd    \n",
    "\n",
    "def matrix_to_pandas(matrix):\n",
    "    all_states =sorted(matrix.states())\n",
    "    target_states = ['S: '+(str(label)) for label in all_states]\n",
    "    data = {source: [0]*len(all_states) for source in all_states}\n",
    "    for (source,target),probability in matrix.items():\n",
    "        data[target][all_states.index(source)] = probability\n",
    "    data = {'T: '+str(label): values for label,values in data.items()}\n",
    "    return pd.DataFrame(data,index=target_states)\n",
    "    \n",
    "def matrix_to_table(matrix):\n",
    "    t = Table().with_columns('Source',[],'Target',[],'Probability',[])\n",
    "    rows = [(source,target,probability) for (source,target),probability in matrix.items()]\n",
    "    return t.with_rows(rows)\n",
    "\n",
    "def table_to_vector(table):\n",
    "    assert table.num_columns == 2, \"You must have 2 columns for this task\"\n",
    "    label_column = table.column(0)\n",
    "    prob_column = table.column(1)\n",
    "    return pykov.Vector({label:prob for label,prob in zip(label_column,prob_column)})\n",
    "\n",
    "def vector_to_table(vector,valueLabel='Probability'):\n",
    "    t = Table().with_columns('State',[],valueLabel,[])\n",
    "    rows = sorted(vector.items(),key=lambda x:x[0])\n",
    "    return t.with_rows(rows)\n",
    "\n",
    "def pykov_connection(function):\n",
    "    def internal(*args,**kwargs):\n",
    "        new_args = [(table_to_vector(argument) if isinstance(argument,Table) else argument) for argument in args]\n",
    "        kwargs = {key:(table_to_vector(value) if isinstance(value,Table) else value) for key,value in kwargs}\n",
    "        output = function(*new_args,**kwargs)\n",
    "        if isinstance(output,pykov.Vector):\n",
    "            return vector_to_table(output)\n",
    "        if isinstance(output,pykov.Matrix):\n",
    "            return matrix_to_pandas(output)\n",
    "        return output\n",
    "    return internal"
   ]
  },
  {
   "cell_type": "code",
   "execution_count": 268,
   "metadata": {
    "collapsed": true
   },
   "outputs": [],
   "source": [
    "class MC2:\n",
    "    def __init__(self,pykov_chain):\n",
    "        self.chain = pykov_chain\n",
    "    def _repr_html_(self):\n",
    "        return matrix_to_pandas(self.chain)._repr_html_()\n",
    "    \n",
    "    @pykov_connection\n",
    "    def move(self,state):\n",
    "        return self.chain.move(state)\n",
    "    \n",
    "    @pykov_connection\n",
    "    def distribution_after_time(self,initial_distribution,time):\n",
    "        return self.chain.pow(initial_distribution,time)\n",
    "    \n",
    "    @pykov_connection\n",
    "    def steady_state(self):\n",
    "        return self.chain.steady()\n",
    "    \n",
    "    def mean_first_passage_time_to(self,target_state):\n",
    "        return vector_to_table(self.chain.mfpt_to(target_state),'Mean Time')\n",
    "    \n",
    "    def random_walk(self,steps,start=None,stop=None):\n",
    "        return self.chain.walk(steps,start,stop)\n",
    "    \n",
    "    @pykov_connection\n",
    "    def probability_of_walk(self,walk):\n",
    "        return np.e**(self.chain.walk_probability(walk))\n",
    "    \n",
    "    def is_accessible(self,i,j):\n",
    "        return self.chain.is_accessible(i,j)\n",
    "    \n",
    "    def communicates(self,i,j):\n",
    "        return self.chain.communicates(i,j)\n",
    "    \n",
    "    @pykov_connection\n",
    "    def accessibility_matrix(self):\n",
    "        return self.chain.accessibility_matrix()\n",
    "    \n",
    "    \n",
    "def toMarkovChain(table):\n",
    "    assert table.num_columns == 3, \\\n",
    "    'Must have columns: source,target,probability'\n",
    "    assert all([round(probsum,6)==1 for probsum in table.group(0,collect=sum).column(2)]), \\\n",
    "        'Transition probabilities must sum to 1 for each source state'\n",
    "    dict_of_values = {(row[0],row[1]):row[2] for row in table.rows}\n",
    "    return MC2(pykov.Chain(dict_of_values))"
   ]
  },
  {
   "cell_type": "code",
   "execution_count": 243,
   "metadata": {
    "collapsed": false,
    "scrolled": true
   },
   "outputs": [
    {
     "name": "stderr",
     "output_type": "stream",
     "text": [
      "C:\\ProgramData\\Anaconda3\\lib\\site-packages\\datascience\\tables.py:362: FutureWarning: column lists are deprecated; pass each as an argument\n",
      "  \"column lists are deprecated; pass each as an argument\", FutureWarning)\n",
      "C:\\Users\\Dibya Jyoti Ghosh\\Documents\\GitHub\\Stat 140\\prob140\\prob140\\single_variable.py:381: UserWarning: Probabilities sum to 5.0\n",
      "  warnings.warn(\"Probabilities sum to {0}\".format(sum(values)))\n"
     ]
    }
   ],
   "source": [
    "def transitionFunction(x,y):\n",
    "    x,y= ord(x),ord(y) # This is just hacky to use letters instead of numbers\n",
    "    if x == y:\n",
    "        return .5\n",
    "    if (x + 1)%5 == y%5:\n",
    "        return .5\n",
    "    return 0\n",
    "    \n",
    "transMatrix = Table().values('Source',['A','B','C','D','E'],\\\n",
    "                             'Target',['A','B','C','D','E']).probability_function(transitionFunction)"
   ]
  },
  {
   "cell_type": "code",
   "execution_count": 262,
   "metadata": {
    "collapsed": false
   },
   "outputs": [
    {
     "data": {
      "text/html": [
       "<table border=\"1\" class=\"dataframe\">\n",
       "    <thead>\n",
       "        <tr>\n",
       "            <th>Source</th> <th>Target</th> <th>Probability</th>\n",
       "        </tr>\n",
       "    </thead>\n",
       "    <tbody>\n",
       "        <tr>\n",
       "            <td>A     </td> <td>A     </td> <td>0.5        </td>\n",
       "        </tr>\n",
       "    </tbody>\n",
       "        <tr>\n",
       "            <td>A     </td> <td>B     </td> <td>0.5        </td>\n",
       "        </tr>\n",
       "    </tbody>\n",
       "        <tr>\n",
       "            <td>A     </td> <td>C     </td> <td>0          </td>\n",
       "        </tr>\n",
       "    </tbody>\n",
       "        <tr>\n",
       "            <td>A     </td> <td>D     </td> <td>0          </td>\n",
       "        </tr>\n",
       "    </tbody>\n",
       "        <tr>\n",
       "            <td>A     </td> <td>E     </td> <td>0          </td>\n",
       "        </tr>\n",
       "    </tbody>\n",
       "        <tr>\n",
       "            <td>B     </td> <td>A     </td> <td>0          </td>\n",
       "        </tr>\n",
       "    </tbody>\n",
       "        <tr>\n",
       "            <td>B     </td> <td>B     </td> <td>0.5        </td>\n",
       "        </tr>\n",
       "    </tbody>\n",
       "        <tr>\n",
       "            <td>B     </td> <td>C     </td> <td>0.5        </td>\n",
       "        </tr>\n",
       "    </tbody>\n",
       "        <tr>\n",
       "            <td>B     </td> <td>D     </td> <td>0          </td>\n",
       "        </tr>\n",
       "    </tbody>\n",
       "        <tr>\n",
       "            <td>B     </td> <td>E     </td> <td>0          </td>\n",
       "        </tr>\n",
       "    </tbody>\n",
       "</table>\n",
       "<p>... (15 rows omitted)</p"
      ],
      "text/plain": [
       "Source | Target | Probability\n",
       "A      | A      | 0.5\n",
       "A      | B      | 0.5\n",
       "A      | C      | 0\n",
       "A      | D      | 0\n",
       "A      | E      | 0\n",
       "B      | A      | 0\n",
       "B      | B      | 0.5\n",
       "B      | C      | 0.5\n",
       "B      | D      | 0\n",
       "B      | E      | 0\n",
       "... (15 rows omitted)"
      ]
     },
     "execution_count": 262,
     "metadata": {},
     "output_type": "execute_result"
    }
   ],
   "source": [
    "transMatrix"
   ]
  },
  {
   "cell_type": "code",
   "execution_count": 269,
   "metadata": {
    "collapsed": false,
    "scrolled": true
   },
   "outputs": [
    {
     "data": {
      "text/html": [
       "<div>\n",
       "<table border=\"1\" class=\"dataframe\">\n",
       "  <thead>\n",
       "    <tr style=\"text-align: right;\">\n",
       "      <th></th>\n",
       "      <th>T: A</th>\n",
       "      <th>T: B</th>\n",
       "      <th>T: C</th>\n",
       "      <th>T: D</th>\n",
       "      <th>T: E</th>\n",
       "    </tr>\n",
       "  </thead>\n",
       "  <tbody>\n",
       "    <tr>\n",
       "      <th>S: A</th>\n",
       "      <td>0.5</td>\n",
       "      <td>0.5</td>\n",
       "      <td>0.0</td>\n",
       "      <td>0.0</td>\n",
       "      <td>0.0</td>\n",
       "    </tr>\n",
       "    <tr>\n",
       "      <th>S: B</th>\n",
       "      <td>0.0</td>\n",
       "      <td>0.5</td>\n",
       "      <td>0.5</td>\n",
       "      <td>0.0</td>\n",
       "      <td>0.0</td>\n",
       "    </tr>\n",
       "    <tr>\n",
       "      <th>S: C</th>\n",
       "      <td>0.0</td>\n",
       "      <td>0.0</td>\n",
       "      <td>0.5</td>\n",
       "      <td>0.5</td>\n",
       "      <td>0.0</td>\n",
       "    </tr>\n",
       "    <tr>\n",
       "      <th>S: D</th>\n",
       "      <td>0.0</td>\n",
       "      <td>0.0</td>\n",
       "      <td>0.0</td>\n",
       "      <td>0.5</td>\n",
       "      <td>0.5</td>\n",
       "    </tr>\n",
       "    <tr>\n",
       "      <th>S: E</th>\n",
       "      <td>0.5</td>\n",
       "      <td>0.0</td>\n",
       "      <td>0.0</td>\n",
       "      <td>0.0</td>\n",
       "      <td>0.5</td>\n",
       "    </tr>\n",
       "  </tbody>\n",
       "</table>\n",
       "</div>"
      ],
      "text/plain": [
       "<__main__.MC2 at 0x1ed1499acc0>"
      ]
     },
     "execution_count": 269,
     "metadata": {},
     "output_type": "execute_result"
    }
   ],
   "source": [
    "mc =toMarkovChain(transMatrix)\n",
    "mc"
   ]
  },
  {
   "cell_type": "code",
   "execution_count": 270,
   "metadata": {
    "collapsed": false
   },
   "outputs": [
    {
     "data": {
      "text/html": [
       "<table border=\"1\" class=\"dataframe\">\n",
       "    <thead>\n",
       "        <tr>\n",
       "            <th>State</th> <th>Mean Time</th>\n",
       "        </tr>\n",
       "    </thead>\n",
       "    <tbody>\n",
       "        <tr>\n",
       "            <td>B    </td> <td>8        </td>\n",
       "        </tr>\n",
       "    </tbody>\n",
       "        <tr>\n",
       "            <td>C    </td> <td>6        </td>\n",
       "        </tr>\n",
       "    </tbody>\n",
       "        <tr>\n",
       "            <td>D    </td> <td>4        </td>\n",
       "        </tr>\n",
       "    </tbody>\n",
       "        <tr>\n",
       "            <td>E    </td> <td>2        </td>\n",
       "        </tr>\n",
       "    </tbody>\n",
       "</table>"
      ],
      "text/plain": [
       "State | Mean Time\n",
       "B     | 8\n",
       "C     | 6\n",
       "D     | 4\n",
       "E     | 2"
      ]
     },
     "execution_count": 270,
     "metadata": {},
     "output_type": "execute_result"
    }
   ],
   "source": [
    "mc.mean_first_passage_time_to('A')"
   ]
  },
  {
   "cell_type": "code",
   "execution_count": 265,
   "metadata": {
    "collapsed": true
   },
   "outputs": [],
   "source": [
    "startVector = Table().values(['A','B','C','D','E']).probability([.1,.4,.2,.1,.2])"
   ]
  },
  {
   "cell_type": "code",
   "execution_count": 271,
   "metadata": {
    "collapsed": false
   },
   "outputs": [
    {
     "data": {
      "text/html": [
       "<table border=\"1\" class=\"dataframe\">\n",
       "    <thead>\n",
       "        <tr>\n",
       "            <th>State</th> <th>Probability</th>\n",
       "        </tr>\n",
       "    </thead>\n",
       "    <tbody>\n",
       "        <tr>\n",
       "            <td>A    </td> <td>0.15       </td>\n",
       "        </tr>\n",
       "    </tbody>\n",
       "        <tr>\n",
       "            <td>B    </td> <td>0.2        </td>\n",
       "        </tr>\n",
       "    </tbody>\n",
       "        <tr>\n",
       "            <td>C    </td> <td>0.275      </td>\n",
       "        </tr>\n",
       "    </tbody>\n",
       "        <tr>\n",
       "            <td>D    </td> <td>0.225      </td>\n",
       "        </tr>\n",
       "    </tbody>\n",
       "        <tr>\n",
       "            <td>E    </td> <td>0.15       </td>\n",
       "        </tr>\n",
       "    </tbody>\n",
       "</table>"
      ],
      "text/plain": [
       "State | Probability\n",
       "A     | 0.15\n",
       "B     | 0.2\n",
       "C     | 0.275\n",
       "D     | 0.225\n",
       "E     | 0.15"
      ]
     },
     "execution_count": 271,
     "metadata": {},
     "output_type": "execute_result"
    }
   ],
   "source": [
    "mc.distribution_after_time(startVector,2)"
   ]
  },
  {
   "cell_type": "code",
   "execution_count": 273,
   "metadata": {
    "collapsed": false
   },
   "outputs": [
    {
     "data": {
      "text/html": [
       "<div>\n",
       "<table border=\"1\" class=\"dataframe\">\n",
       "  <thead>\n",
       "    <tr style=\"text-align: right;\">\n",
       "      <th></th>\n",
       "      <th>T: A</th>\n",
       "      <th>T: B</th>\n",
       "      <th>T: C</th>\n",
       "      <th>T: D</th>\n",
       "      <th>T: E</th>\n",
       "    </tr>\n",
       "  </thead>\n",
       "  <tbody>\n",
       "    <tr>\n",
       "      <th>S: A</th>\n",
       "      <td>1</td>\n",
       "      <td>1</td>\n",
       "      <td>1</td>\n",
       "      <td>1</td>\n",
       "      <td>1</td>\n",
       "    </tr>\n",
       "    <tr>\n",
       "      <th>S: B</th>\n",
       "      <td>1</td>\n",
       "      <td>1</td>\n",
       "      <td>1</td>\n",
       "      <td>1</td>\n",
       "      <td>1</td>\n",
       "    </tr>\n",
       "    <tr>\n",
       "      <th>S: C</th>\n",
       "      <td>1</td>\n",
       "      <td>1</td>\n",
       "      <td>1</td>\n",
       "      <td>1</td>\n",
       "      <td>1</td>\n",
       "    </tr>\n",
       "    <tr>\n",
       "      <th>S: D</th>\n",
       "      <td>1</td>\n",
       "      <td>1</td>\n",
       "      <td>1</td>\n",
       "      <td>1</td>\n",
       "      <td>1</td>\n",
       "    </tr>\n",
       "    <tr>\n",
       "      <th>S: E</th>\n",
       "      <td>1</td>\n",
       "      <td>1</td>\n",
       "      <td>1</td>\n",
       "      <td>1</td>\n",
       "      <td>1</td>\n",
       "    </tr>\n",
       "  </tbody>\n",
       "</table>\n",
       "</div>"
      ],
      "text/plain": [
       "      T: A  T: B  T: C  T: D  T: E\n",
       "S: A     1     1     1     1     1\n",
       "S: B     1     1     1     1     1\n",
       "S: C     1     1     1     1     1\n",
       "S: D     1     1     1     1     1\n",
       "S: E     1     1     1     1     1"
      ]
     },
     "execution_count": 273,
     "metadata": {},
     "output_type": "execute_result"
    }
   ],
   "source": [
    "mc.accessibility_matrix() # everything can reach everything"
   ]
  },
  {
   "cell_type": "code",
   "execution_count": 253,
   "metadata": {
    "collapsed": false
   },
   "outputs": [
    {
     "data": {
      "text/plain": [
       "['A', 'A', 'E', 'E', 'E', 'E', 'D', 'C', 'C', 'B', 'B']"
      ]
     },
     "execution_count": 253,
     "metadata": {},
     "output_type": "execute_result"
    }
   ],
   "source": [
    "random_walk = mc.random_walk(10,start='A') #good for simulations\n",
    "random_walk"
   ]
  },
  {
   "cell_type": "code",
   "execution_count": 274,
   "metadata": {
    "collapsed": false
   },
   "outputs": [
    {
     "data": {
      "text/plain": [
       "0.06250000000000001"
      ]
     },
     "execution_count": 274,
     "metadata": {},
     "output_type": "execute_result"
    }
   ],
   "source": [
    "mc.probability_of_walk(['A','A','A','B','C'])"
   ]
  }
 ],
 "metadata": {
  "anaconda-cloud": {},
  "kernelspec": {
   "display_name": "Python 3",
   "language": "python",
   "name": "python3"
  },
  "language_info": {
   "codemirror_mode": {
    "name": "ipython",
    "version": 3
   },
   "file_extension": ".py",
   "mimetype": "text/x-python",
   "name": "python",
   "nbconvert_exporter": "python",
   "pygments_lexer": "ipython3",
   "version": "3.6.0"
  }
 },
 "nbformat": 4,
 "nbformat_minor": 1
}
